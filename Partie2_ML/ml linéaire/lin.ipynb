{
 "cells": [
  {
   "cell_type": "markdown",
   "metadata": {},
   "source": [
    "On importe les bibliothèques nécessaires à l'implémentation du modèle linéaire"
   ]
  },
  {
   "cell_type": "code",
   "execution_count": 29,
   "metadata": {
    "tags": []
   },
   "outputs": [],
   "source": [
    "import pandas as pd\n",
    "import matplotlib.pyplot as plt\n",
    "import numpy as np\n",
    "import seaborn as sns\n",
    "\n",
    "from sklearn.model_selection import train_test_split\n",
    "from sklearn.linear_model import LinearRegression\n",
    "from sklearn.metrics import f1_score , accuracy_score , recall_score , roc_auc_score, precision_score, mean_squared_error\n",
    "from sklearn.impute import SimpleImputer\n",
    "from sklearn.model_selection import StratifiedKFold"
   ]
  },
  {
   "cell_type": "markdown",
   "metadata": {},
   "source": [
    "On charge la base de données sur laquelle on va travailler et on la met en forme"
   ]
  },
  {
   "cell_type": "code",
   "execution_count": 18,
   "metadata": {},
   "outputs": [
    {
     "name": "stdout",
     "output_type": "stream",
     "text": [
      "<class 'pandas.core.series.Series'>\n"
     ]
    }
   ],
   "source": [
    "path=\"/Users/capucinerousset/Desktop/statapp_sujet26/\"\n",
    "file_name1=\"dataset_complet_part_1.csv\"\n",
    "file_name2=\"dataset_complet_part_2.csv\"\n",
    "df1 = pd.read_csv(path+file_name1, sep=',',low_memory=False)\n",
    "df2 = pd.read_csv(path+file_name2, sep=',',low_memory=False)\n",
    "df = pd.concat([df1,df2])\n",
    "\n",
    "df = df.loc[df['an'] == 2019]\n",
    "df['grav'] = df['grav'].replace({1:0,2:0,3:1,4:1})\n",
    "\n",
    "df = df.drop(columns=['Num_Acc','an','adr','lat','long','lartpc','larrout','com','gps','voie','dep','v2','pr','pr1'])\n",
    "#ici on enlève an car on ne regarde que pour 2019\n",
    "df['hrmn'] = df['hrmn'].str.split(':').str[0]\n",
    "\n",
    "df.to_csv('lin.csv', index=False)\n",
    "\n",
    "y = df['grav']\n",
    "X = df.drop(columns=['grav'])\n",
    "features = X.columns\n"
   ]
  },
  {
   "cell_type": "markdown",
   "metadata": {},
   "source": [
    "On implémente le modèle de régression linéaire"
   ]
  },
  {
   "cell_type": "code",
   "execution_count": 7,
   "metadata": {},
   "outputs": [],
   "source": [
    "# Diviser le jeu de données en ensembles d'entraînement et de test\n",
    "X_train, X_test, y_train, y_test = train_test_split(X, y, test_size=0.3, random_state=42, stratify=y)\n",
    "\n",
    "#Inférer les valeurs non renseignées\n",
    "imputer = SimpleImputer(strategy='mean')\n",
    "X_train_imp = imputer.fit_transform(X_train)\n",
    "X_test_imp = imputer.transform(X_test)\n",
    "\n",
    "#Ajuster Y pour fitter avec la nouvelle base de features\n",
    "y_train = y_train.loc[X_train.index]\n",
    "y_test = y_test.loc[X_test.index]\n",
    "\n",
    "#Créer le modèle linéaire et l'entrainer sur les bases test\n",
    "model = LinearRegression()\n",
    "model.fit(X_train_imp, y_train)\n",
    "\n",
    "#Tester le modèle sur la base de features test\n",
    "y_pred = model.predict(X_test_imp)\n",
    "\n",
    "for i in range(len(y_pred)):\n",
    "    if y_pred[i]>(1/2):\n",
    "        y_pred[i]=int(1)\n",
    "    else: y_pred[i]=int(0)\n",
    "    "
   ]
  },
  {
   "cell_type": "markdown",
   "metadata": {},
   "source": [
    "On calcule le R2 afin de mesurer la performance du modèle"
   ]
  },
  {
   "cell_type": "code",
   "execution_count": 30,
   "metadata": {},
   "outputs": [
    {
     "name": "stdout",
     "output_type": "stream",
     "text": [
      "F1: 0.4932354078082721\n",
      "MSE: 0.29707681849082257\n"
     ]
    }
   ],
   "source": [
    "# Évaluer les performances du modèle\n",
    "f1 = f1_score(y_test, y_pred)\n",
    "print(\"F1:\", f1)\n",
    "R2 = mean_squared_error(y_test, y_pred)\n",
    "print(\"MSE:\", R2)\n"
   ]
  },
  {
   "cell_type": "code",
   "execution_count": 12,
   "metadata": {},
   "outputs": [
    {
     "name": "stdout",
     "output_type": "stream",
     "text": [
      "10 most important coefficients:\n",
      "agg: -0.2660160556012651\n",
      "v1: 0.08648651037491518\n",
      "nbv: -0.05570166328749759\n",
      "circ: 0.049931319955786126\n",
      "situ: 0.039732965336483385\n",
      "plan: 0.03858448924666496\n",
      "catr: 0.02319058924461179\n",
      "prof: 0.018051789407435768\n",
      "col: 0.01498705866469151\n",
      "surf: -0.011963870398099933\n"
     ]
    }
   ],
   "source": [
    "# On récupère les coefficients\n",
    "coefficients = model.coef_\n",
    "\n",
    "# Les associer à leur feature \n",
    "feature_importance = list(zip(features, coefficients))\n",
    "# Trier les coefficients par valeur absolue\n",
    "feature_importance_sorted = sorted(feature_importance, key=lambda x: abs(x[1]), reverse=True)\n",
    "\n",
    "# Afficher les 10 coefficients les plus importants\n",
    "print(\"10 most important coefficients:\")\n",
    "for i in range(10):\n",
    "    feature, importance = feature_importance_sorted[i]\n",
    "    print(f\"{feature}: {importance}\")"
   ]
  },
  {
   "cell_type": "markdown",
   "metadata": {},
   "source": [
    "On refait le modèle avec cross validation "
   ]
  },
  {
   "cell_type": "code",
   "execution_count": 28,
   "metadata": {},
   "outputs": [
    {
     "data": {
      "image/png": "[encoded data removed]",
      "text/plain": [
       "<Figure size 800x600 with 1 Axes>"
      ]
     },
     "metadata": {},
     "output_type": "display_data"
    }
   ],
   "source": [
    "skf = StratifiedKFold(n_splits=20, random_state=42, shuffle=True)\n",
    "\n",
    "lr_model = LinearRegression()\n",
    "\n",
    "f1s= []\n",
    "accuracies =[]\n",
    "recalls=[]\n",
    "precisions=[]\n",
    "auc_rocs=[]\n",
    "\n",
    "\n",
    "\n",
    "# Iterate through each fold\n",
    "for train_index, test_index in skf.split(X, y):\n",
    "    X_train2, X_test2 = X.iloc[train_index], X.iloc[test_index]\n",
    "    y_train2, y_test2 = y.iloc[train_index], y.iloc[test_index]\n",
    "\n",
    "    imputer = SimpleImputer(strategy='mean')\n",
    "    X_train_imp2 = imputer.fit_transform(X_train2)\n",
    "    X_test_imp2 = imputer.transform(X_test2)\n",
    "    \n",
    "    # Fit the model\n",
    "    lr_model.fit(X_train_imp2, y_train2)\n",
    "    \n",
    "    # Predict on the test set\n",
    "    y_pred2 = lr_model.predict(X_test_imp2)\n",
    "\n",
    "    for i in range(len(y_pred2)):\n",
    "        if y_pred2[i]>(1/2):\n",
    "            y_pred2[i]=int(1)\n",
    "        else: y_pred2[i]=int(0)\n",
    "\n",
    "    accuracy = accuracy_score(y_test2, y_pred2)\n",
    "    recall = recall_score(y_test2, y_pred2)\n",
    "    precision = precision_score(y_test2, y_pred2)\n",
    "    auc_roc = roc_auc_score(y_test2, y_pred2)\n",
    "\n",
    "    f1s.append(f1_score(y_pred2,y_test2))\n",
    "    accuracies.append(accuracy)\n",
    "    recalls.append(recall)\n",
    "    precisions.append(precision)\n",
    "    auc_rocs.append(auc_roc)\n",
    "\n",
    "plt.figure(figsize=(8, 6))\n",
    "plt.boxplot([f1s, accuracies, recalls, precisions, auc_rocs],\n",
    "            labels=['F1 Score', 'Accuracy', 'Recall', 'Precision', 'AUC-ROC'])\n",
    "plt.xlabel('Score')\n",
    "plt.ylabel('Metrics')\n",
    "plt.title('Boxplot of score distribution according to metric')\n",
    "plt.show()\n",
    "\n"
   ]
  }
 ],
 "metadata": {
  "kernelspec": {
   "display_name": "base",
   "language": "python",
   "name": "python3"
  },
  "language_info": {
   "codemirror_mode": {
    "name": "ipython",
    "version": 3
   },
   "file_extension": ".py",
   "mimetype": "text/x-python",
   "name": "python",
   "nbconvert_exporter": "python",
   "pygments_lexer": "ipython3",
   "version": "3.9.17"
  }
 },
 "nbformat": 4,
 "nbformat_minor": 2
}
