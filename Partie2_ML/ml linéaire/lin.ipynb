{
 "cells": [
  {
   "cell_type": "markdown",
   "metadata": {},
   "source": [
    "On importe les bibliothèques nécessaires à l'implémentation du modèle linéaire"
   ]
  },
  {
   "cell_type": "code",
   "execution_count": 2,
   "metadata": {
    "tags": []
   },
   "outputs": [],
   "source": [
    "import pandas as pd\n",
    "import matplotlib.pyplot as plt\n",
    "import numpy as np\n",
    "import seaborn as sns\n",
    "\n",
    "from sklearn.model_selection import train_test_split\n",
    "from sklearn.linear_model import LinearRegression\n",
    "from sklearn.metrics import r2_score\n",
    "from sklearn.impute import SimpleImputer"
   ]
  },
  {
   "cell_type": "markdown",
   "metadata": {},
   "source": [
    "On charge la base de données sur laquelle on va travailler et on la met en forme"
   ]
  },
  {
   "cell_type": "code",
   "execution_count": 3,
   "metadata": {},
   "outputs": [],
   "source": [
    "path=\"/Users/capucinerousset/Desktop/statapp_sujet26/\"\n",
    "file_name1=\"dataset_complet_part_1.csv\"\n",
    "file_name2=\"dataset_complet_part_2.csv\"\n",
    "df1 = pd.read_csv(path+file_name1, sep=',',low_memory=False)\n",
    "df2 = pd.read_csv(path+file_name2, sep=',',low_memory=False)\n",
    "df = pd.concat([df1,df2])\n",
    "\n",
    "df = df.loc[df['an'] == 2019]\n",
    "df['grav'] = df['grav'].replace({1:0,2:0,3:1,4:1})\n",
    "\n",
    "df = df.drop(columns=['Num_Acc','an','adr','lat','long','lartpc','larrout','com','gps','voie','dep','v2','pr','pr1'])\n",
    "#ici on enlève an car on ne regarde que pour 2019\n",
    "df['hrmn'] = df['hrmn'].str.split(':').str[0]\n",
    "\n",
    "df.to_csv('lin.csv', index=False)\n",
    "\n",
    "y = df['grav']\n",
    "X = df.drop(columns=['grav'])\n",
    "features = X.columns"
   ]
  },
  {
   "cell_type": "markdown",
   "metadata": {},
   "source": [
    "On implémente le modèle de régression linéaire"
   ]
  },
  {
   "cell_type": "code",
   "execution_count": 4,
   "metadata": {},
   "outputs": [],
   "source": [
    "# Diviser le jeu de données en ensembles d'entraînement et de test\n",
    "X_train, X_test, y_train, y_test = train_test_split(X, y, test_size=0.3, random_state=42, stratify=y)\n",
    "\n",
    "#Inférer les valeurs non renseignées\n",
    "imputer = SimpleImputer(strategy='mean')\n",
    "X_train_imp = imputer.fit_transform(X_train)\n",
    "X_test_imp = imputer.transform(X_test)\n",
    "\n",
    "#Ajuster Y pour fitter avec la nouvelle base de features\n",
    "y_train = y_train.loc[X_train.index]\n",
    "y_test = y_test.loc[X_test.index]\n",
    "\n",
    "#Créer le modèle linéaire et l'entrainer sur les bases test\n",
    "model = LinearRegression()\n",
    "model.fit(X_train_imp, y_train)\n",
    "\n",
    "#Tester le modèle sur la base de features test\n",
    "y_pred = model.predict(X_test_imp)\n",
    "\n",
    "for i in range(len(y_pred)):\n",
    "    if y_pred[i]>(1/2):\n",
    "        y_pred[i]=int(1)\n",
    "    else: y_pred[i]=int(0)\n",
    "    "
   ]
  },
  {
   "cell_type": "markdown",
   "metadata": {},
   "source": [
    "On calcule le R2 afin de mesurer la performance du modèle"
   ]
  },
  {
   "cell_type": "code",
   "execution_count": 18,
   "metadata": {},
   "outputs": [
    {
     "name": "stdout",
     "output_type": "stream",
     "text": [
      "R2: 0.122581192737938\n"
     ]
    }
   ],
   "source": [
    "# Évaluer les performances du modèle\n",
    "r2 = r2_score(y_test, y_pred)\n",
    "print(\"R2:\", r2)"
   ]
  },
  {
   "cell_type": "code",
   "execution_count": 24,
   "metadata": {},
   "outputs": [
    {
     "name": "stdout",
     "output_type": "stream",
     "text": [
      "mois: -0.0020956722003259527\n",
      "jour: 0.00021621072701462785\n",
      "hrmn: -0.00014433694030086723\n",
      "lum: 0.0052190990634237554\n",
      "agg: -0.2660160556012651\n",
      "int: -0.00309507780845054\n",
      "atm: 0.005410003550319949\n",
      "col: 0.01498705866469151\n",
      "catr: 0.02319058924461179\n",
      "v1: 0.08648651037491518\n",
      "circ: 0.049931319955786126\n",
      "nbv: -0.05570166328749759\n",
      "vosp: -0.002728678519104884\n",
      "prof: 0.018051789407435768\n",
      "plan: 0.03858448924666496\n",
      "surf: -0.011963870398099933\n",
      "infra: 0.0029253866681804054\n",
      "situ: 0.039732965336483385\n",
      "vma: 0.00028113059911780315\n"
     ]
    }
   ],
   "source": [
    "# On récupère les coefficients\n",
    "coefficients = model.coef_\n",
    "\n",
    "# Les associer à leur feature \n",
    "feature_importance = list(zip(features, coefficients))\n",
    "\n",
    "for feature, importance in feature_importance:\n",
    "    print(f\"{feature}: {importance}\")"
   ]
  }
 ],
 "metadata": {
  "kernelspec": {
   "display_name": "base",
   "language": "python",
   "name": "python3"
  },
  "language_info": {
   "codemirror_mode": {
    "name": "ipython",
    "version": 3
   },
   "file_extension": ".py",
   "mimetype": "text/x-python",
   "name": "python",
   "nbconvert_exporter": "python",
   "pygments_lexer": "ipython3",
   "version": "3.9.17"
  }
 },
 "nbformat": 4,
 "nbformat_minor": 2
}
