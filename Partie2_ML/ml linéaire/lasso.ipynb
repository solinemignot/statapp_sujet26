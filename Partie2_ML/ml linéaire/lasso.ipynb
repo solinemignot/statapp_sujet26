{
 "cells": [
  {
   "cell_type": "code",
   "execution_count": 2,
   "metadata": {},
   "outputs": [],
   "source": [
    "import pandas as pd\n",
    "import matplotlib.pyplot as plt\n",
    "import numpy as np\n",
    "import seaborn as sns\n",
    "\n",
    "from sklearn.model_selection import train_test_split\n",
    "from sklearn.linear_model import Lasso\n",
    "from sklearn.metrics import r2_score\n",
    "from sklearn.impute import SimpleImputer\n",
    "from sklearn.metrics import mean_squared_error\n",
    "from sklearn.model_selection import GridSearchCV, cross_val_score"
   ]
  },
  {
   "cell_type": "code",
   "execution_count": 3,
   "metadata": {},
   "outputs": [],
   "source": [
    "path=\"/Users/capucinerousset/Desktop/statapp_sujet26/\"\n",
    "file_name1=\"dataset_complet_part_1.csv\"\n",
    "file_name2=\"dataset_complet_part_2.csv\"\n",
    "df1 = pd.read_csv(path+file_name1, sep=',',low_memory=False)\n",
    "df2 = pd.read_csv(path+file_name2, sep=',',low_memory=False)\n",
    "df = pd.concat([df1,df2])\n",
    "\n",
    "df = df.loc[df['an'] == 2019]\n",
    "df['grav'] = df['grav'].replace({1:0,2:0,3:1,4:1})\n",
    "\n",
    "df = df.drop(columns=['Num_Acc','an','adr','lat','long','lartpc','larrout','com','gps','voie','dep','v2','pr','pr1'])\n",
    "#ici on enlève an car on ne regarde que pour 2019\n",
    "df['hrmn'] = df['hrmn'].str.split(':').str[0]\n",
    "\n",
    "df.to_csv('lin.csv', index=False)\n",
    "\n",
    "y = df['grav']\n",
    "X = df.drop(columns=['grav'])\n",
    "features = X.columns"
   ]
  },
  {
   "cell_type": "code",
   "execution_count": 4,
   "metadata": {},
   "outputs": [
    {
     "name": "stdout",
     "output_type": "stream",
     "text": [
      "Best value for lambda :  {'alpha': 1e-08}\n",
      "Best score for cost function:  -0.20210505248176566\n"
     ]
    }
   ],
   "source": [
    "# Diviser le jeu de données en ensembles d'entraînement et de test\n",
    "X_train, X_test, y_train, y_test = train_test_split(X, y, test_size=0.3, random_state=42, stratify=y)\n",
    "\n",
    "#Inférer les valeurs non renseignées\n",
    "imputer = SimpleImputer(strategy='mean')\n",
    "X_train_imp = imputer.fit_transform(X_train)\n",
    "X_test_imp = imputer.transform(X_test)\n",
    "\n",
    "#Ajuster Y pour fitter avec la nouvelle base de features\n",
    "y_train = y_train.loc[X_train.index]\n",
    "y_test = y_test.loc[X_test.index]\n",
    "\n",
    "#Trouver le alpha optimal\n",
    "LassoRegression = Lasso()\n",
    "hyperParameters = {'alpha':[1e-15,1e-10,1e-8,1e-3,1e-2,1,5,10,20,30,35,40,45,50,55,100]}\n",
    "LassoRegressor = GridSearchCV(LassoRegression, hyperParameters, scoring='neg_mean_squared_error', cv=5)\n",
    "LassoRegressor.fit(X_train_imp,y_train)\n",
    "\n",
    "print(\"Best value for lambda : \",LassoRegressor.best_params_)\n",
    "print(\"Best score for cost function: \", LassoRegressor.best_score_)\n",
    "\n"
   ]
  },
  {
   "cell_type": "code",
   "execution_count": 5,
   "metadata": {},
   "outputs": [],
   "source": [
    "#Créer le modèle linéaire et l'entrainer sur les bases test\n",
    "model = Lasso(alpha=1e-08)\n",
    "model.fit(X_train_imp, y_train)\n",
    "\n",
    "#Tester le modèle sur la base de features test\n",
    "y_pred = model.predict(X_test_imp)\n",
    "\n",
    "for i in range(len(y_pred)):\n",
    "    if y_pred[i]>(1/2):\n",
    "        y_pred[i]=int(1)\n",
    "    else: y_pred[i]=int(0)"
   ]
  },
  {
   "cell_type": "code",
   "execution_count": 6,
   "metadata": {},
   "outputs": [
    {
     "name": "stdout",
     "output_type": "stream",
     "text": [
      "Mean Squared Error: 0.29707681849082257\n"
     ]
    }
   ],
   "source": [
    "mse = mean_squared_error(y_test, y_pred)\n",
    "print(\"Mean Squared Error:\", mse)"
   ]
  },
  {
   "cell_type": "code",
   "execution_count": 7,
   "metadata": {},
   "outputs": [
    {
     "name": "stdout",
     "output_type": "stream",
     "text": [
      "10 most important coefficients:\n",
      "agg: -0.2660159784724848\n",
      "v1: 0.08648588944628118\n",
      "nbv: -0.05570166238744293\n",
      "circ: 0.049931305156253616\n",
      "situ: 0.039732963096162706\n",
      "plan: 0.03858448074025675\n",
      "catr: 0.023190569347680573\n",
      "prof: 0.018051766208211757\n",
      "col: 0.014987056966090801\n",
      "surf: -0.011963848515900771\n"
     ]
    }
   ],
   "source": [
    "# On récupère les coefficients\n",
    "coefficients = model.coef_\n",
    "\n",
    "# Les associer à leur feature \n",
    "feature_importance = list(zip(features, coefficients))\n",
    "\n",
    "\n",
    "# Trier les coefficients par valeur absolue\n",
    "feature_importance_sorted = sorted(feature_importance, key=lambda x: abs(x[1]), reverse=True)\n",
    "\n",
    "# Afficher les 10 coefficients les plus importants\n",
    "print(\"10 most important coefficients:\")\n",
    "for i in range(10):\n",
    "    feature, importance = feature_importance_sorted[i]\n",
    "    print(f\"{feature}: {importance}\")"
   ]
  }
 ],
 "metadata": {
  "kernelspec": {
   "display_name": "base",
   "language": "python",
   "name": "python3"
  },
  "language_info": {
   "codemirror_mode": {
    "name": "ipython",
    "version": 3
   },
   "file_extension": ".py",
   "mimetype": "text/x-python",
   "name": "python",
   "nbconvert_exporter": "python",
   "pygments_lexer": "ipython3",
   "version": "3.9.17"
  }
 },
 "nbformat": 4,
 "nbformat_minor": 2
}
