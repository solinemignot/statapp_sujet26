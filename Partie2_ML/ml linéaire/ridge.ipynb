{
 "cells": [
  {
   "cell_type": "code",
   "execution_count": 9,
   "metadata": {},
   "outputs": [],
   "source": [
    "import pandas as pd\n",
    "import matplotlib.pyplot as plt\n",
    "import numpy as np\n",
    "import seaborn as sns\n",
    "\n",
    "from sklearn.model_selection import train_test_split\n",
    "from sklearn.linear_model import Ridge\n",
    "from sklearn.metrics import r2_score\n",
    "from sklearn.impute import SimpleImputer\n",
    "from sklearn.metrics import mean_squared_error\n",
    "from sklearn.model_selection import GridSearchCV, cross_val_score"
   ]
  },
  {
   "cell_type": "code",
   "execution_count": 4,
   "metadata": {},
   "outputs": [],
   "source": [
    "path=\"/Users/capucinerousset/Desktop/statapp_sujet26/\"\n",
    "file_name1=\"dataset_complet_part_1.csv\"\n",
    "file_name2=\"dataset_complet_part_2.csv\"\n",
    "df1 = pd.read_csv(path+file_name1, sep=',',low_memory=False)\n",
    "df2 = pd.read_csv(path+file_name2, sep=',',low_memory=False)\n",
    "df = pd.concat([df1,df2])\n",
    "\n",
    "df = df.loc[df['an'] == 2019]\n",
    "df['grav'] = df['grav'].replace({1:0,2:0,3:1,4:1})\n",
    "\n",
    "df = df.drop(columns=['Num_Acc','an','adr','lat','long','lartpc','larrout','com','gps','voie','dep','v2','pr','pr1'])\n",
    "#ici on enlève an car on ne regarde que pour 2019\n",
    "df['hrmn'] = df['hrmn'].str.split(':').str[0]\n",
    "\n",
    "df.to_csv('lin.csv', index=False)\n",
    "\n",
    "y = df['grav']\n",
    "X = df.drop(columns=['grav'])\n",
    "features = X.columns"
   ]
  },
  {
   "cell_type": "code",
   "execution_count": 10,
   "metadata": {},
   "outputs": [
    {
     "name": "stdout",
     "output_type": "stream",
     "text": [
      "Best value for lambda :  {'alpha': 0.01}\n",
      "Best score for cost function:  -0.20210505249512586\n"
     ]
    }
   ],
   "source": [
    "# Diviser le jeu de données en ensembles d'entraînement et de test\n",
    "X_train, X_test, y_train, y_test = train_test_split(X, y, test_size=0.3, random_state=42, stratify=y)\n",
    "\n",
    "#Inférer les valeurs non renseignées\n",
    "imputer = SimpleImputer(strategy='mean')\n",
    "X_train_imp = imputer.fit_transform(X_train)\n",
    "X_test_imp = imputer.transform(X_test)\n",
    "\n",
    "#Ajuster Y pour fitter avec la nouvelle base de features\n",
    "y_train = y_train.loc[X_train.index]\n",
    "y_test = y_test.loc[X_test.index]\n",
    "\n",
    "#Trouver le alpha optimal\n",
    "RidgeRegression = Ridge()\n",
    "hyperParameters = {'alpha':[1e-15,1e-10,1e-8,1e-3,1e-2,1,5,10,20,30,35,40,45,50,55,100]}\n",
    "ridgeRegressor = GridSearchCV(RidgeRegression, hyperParameters, scoring='neg_mean_squared_error', cv=5)\n",
    "ridgeRegressor.fit(X_train_imp,y_train)\n",
    "\n",
    "print(\"Best value for lambda : \",ridgeRegressor.best_params_)\n",
    "print(\"Best score for cost function: \", ridgeRegressor.best_score_)\n",
    "\n"
   ]
  },
  {
   "cell_type": "code",
   "execution_count": 11,
   "metadata": {},
   "outputs": [],
   "source": [
    "#Créer le modèle linéaire et l'entrainer sur les bases test\n",
    "model = Ridge(alpha=0.01)\n",
    "model.fit(X_train_imp, y_train)\n",
    "\n",
    "#Tester le modèle sur la base de features test\n",
    "y_pred = model.predict(X_test_imp)\n",
    "\n",
    "for i in range(len(y_pred)):\n",
    "    if y_pred[i]>(1/2):\n",
    "        y_pred[i]=int(1)\n",
    "    else: y_pred[i]=int(0)"
   ]
  },
  {
   "cell_type": "code",
   "execution_count": 12,
   "metadata": {},
   "outputs": [
    {
     "name": "stdout",
     "output_type": "stream",
     "text": [
      "Mean Squared Error: 0.29707681849082257\n"
     ]
    }
   ],
   "source": [
    "mse = mean_squared_error(y_test, y_pred)\n",
    "print(\"Mean Squared Error:\", mse)"
   ]
  },
  {
   "cell_type": "code",
   "execution_count": 13,
   "metadata": {},
   "outputs": [
    {
     "name": "stdout",
     "output_type": "stream",
     "text": [
      "10 most important coefficients:\n",
      "agg: -0.26601547746354326\n",
      "v1: 0.08648521507891159\n",
      "nbv: -0.05570166696001796\n",
      "circ: 0.0499313067360415\n",
      "situ: 0.03973298385691431\n",
      "plan: 0.03858452596167158\n",
      "catr: 0.023190530294651523\n",
      "prof: 0.01805180521956256\n",
      "col: 0.014987055707045949\n",
      "surf: -0.01196385042141681\n"
     ]
    }
   ],
   "source": [
    "# On récupère les coefficients\n",
    "coefficients = model.coef_\n",
    "\n",
    "# Les associer à leur feature \n",
    "feature_importance = list(zip(features, coefficients))\n",
    "\n",
    "\n",
    "# Trier les coefficients par valeur absolue\n",
    "feature_importance_sorted = sorted(feature_importance, key=lambda x: abs(x[1]), reverse=True)\n",
    "\n",
    "# Afficher les 10 coefficients les plus importants\n",
    "print(\"10 most important coefficients:\")\n",
    "for i in range(10):\n",
    "    feature, importance = feature_importance_sorted[i]\n",
    "    print(f\"{feature}: {importance}\")"
   ]
  }
 ],
 "metadata": {
  "kernelspec": {
   "display_name": "base",
   "language": "python",
   "name": "python3"
  },
  "language_info": {
   "codemirror_mode": {
    "name": "ipython",
    "version": 3
   },
   "file_extension": ".py",
   "mimetype": "text/x-python",
   "name": "python",
   "nbconvert_exporter": "python",
   "pygments_lexer": "ipython3",
   "version": "3.9.17"
  }
 },
 "nbformat": 4,
 "nbformat_minor": 2
}
