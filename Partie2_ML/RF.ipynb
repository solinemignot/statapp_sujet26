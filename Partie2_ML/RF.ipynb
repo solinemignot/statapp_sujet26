{
 "cells": [
  {
   "cell_type": "code",
   "execution_count": null,
   "metadata": {},
   "outputs": [],
   "source": [
    "# Import des bibliothèques nécessaires\n",
    "import pandas as pd\n",
    "import matplotlib.pyplot as plt\n",
    "import numpy as np\n",
    "from sklearn.model_selection import train_test_split, GridSearchCV\n",
    "from sklearn.preprocessing import StandardScaler\n",
    "from sklearn.ensemble import RandomForestClassifier\n",
    "from sklearn.metrics import accuracy_score"
   ]
  },
  {
   "cell_type": "code",
   "execution_count": null,
   "metadata": {},
   "outputs": [],
   "source": [
    "# Charger le jeu de données\n",
    "path = \"/home/onyxia/work/statapp_sujet26/\"\n",
    "file_name1 = \"dataset_complet_part_1.csv\"\n",
    "file_name2 = \"dataset_complet_part_2.csv\"\n",
    "df1 = pd.read_csv(path + file_name1, sep=',', low_memory=False)\n",
    "df2 = pd.read_csv(path + file_name2, sep=',', low_memory=False)\n",
    "df = pd.concat([df1, df2])"
   ]
  },
  {
   "cell_type": "code",
   "execution_count": null,
   "metadata": {},
   "outputs": [],
   "source": [
    "# Filtre pour l'année 2019 et remplacement des valeurs de 'grav'\n",
    "df = df.loc[df['an'] == 2019]\n",
    "df['grav'] = df['grav'].replace({1: 0, 2: 0, 3: 1, 4: 1})\n",
    "\n",
    "# Suppression des colonnes non nécessaires\n",
    "df = df.drop(columns=['Num_Acc', 'an', 'adr', 'lat', 'long', 'lartpc', 'larrout', 'com', 'gps', 'voie', 'dep', 'v2', 'pr', 'pr1'])\n",
    "df['hrmn'] = df['hrmn'].str.split(':').str[0]\n",
    "\n",
    "# Enregistrement des données préparées dans un fichier CSV\n",
    "df.to_csv('random_forest.csv', index=False)\n",
    "\n",
    "# Diviser le jeu de données en ensembles d'entraînement et de test\n",
    "y = df['grav']\n",
    "X = df.drop(columns=['grav'])\n",
    "X_train, X_test, y_train, y_test = train_test_split(X, y, test_size=0.3, random_state=42, stratify=y)\n",
    "\n",
    "# Normaliser les fonctionnalités\n",
    "sc = StandardScaler()\n",
    "X_train = sc.fit_transform(X_train)\n",
    "X_test = sc.transform(X_test)"
   ]
  },
  {
   "cell_type": "code",
   "execution_count": null,
   "metadata": {},
   "outputs": [],
   "source": [
    "# Définir les hyperparamètres à tester\n",
    "param_grid = {\n",
    "    'n_estimators': [50, 100, 150],\n",
    "    'max_depth': [None, 10, 20],\n",
    "    'min_samples_split': [2, 5, 10],\n",
    "    'min_samples_leaf': [1, 2, 4],\n",
    "    'max_features': ['auto', 'sqrt']\n",
    "}\n",
    "\n",
    "# Créer un classifieur Random Forest\n",
    "rf_classifier = RandomForestClassifier(random_state=42)\n",
    "\n",
    "# Recherche par grille pour trouver les meilleurs hyperparamètres\n",
    "grid_search = GridSearchCV(estimator=rf_classifier, param_grid=param_grid, cv=3, n_jobs=-1, scoring='accuracy')\n",
    "grid_search.fit(X_train, y_train)\n",
    "\n",
    "# Afficher les meilleurs hyperparamètres\n",
    "print(\"Meilleurs hyperparamètres:\", grid_search.best_params_)"
   ]
  },
  {
   "cell_type": "code",
   "execution_count": null,
   "metadata": {},
   "outputs": [],
   "source": [
    "# Entraîner le modèle avec les meilleurs hyperparamètres\n",
    "best_rf_classifier = grid_search.best_estimator_\n",
    "best_rf_classifier.fit(X_train, y_train)\n",
    "\n",
    "# Faire des prédictions sur l'ensemble de test\n",
    "y_pred = best_rf_classifier.predict(X_test)\n",
    "\n",
    "# Évaluer les performances du modèle\n",
    "accuracy = accuracy_score(y_test, y_pred)\n",
    "print(\"Précision avec les meilleurs hyperparamètres:\", accuracy)\n",
    "\n",
    "\n",
    "# Afficher l'importance de chaque feature avec les meilleurs hyperparamètres\n",
    "importances = best_rf_classifier.feature_importances_\n",
    "indices = np.argsort(importances)[::-1]\n",
    "\n",
    "plt.figure(figsize=(8, 6))\n",
    "plt.title(\"Importance des variables dans le modèle Random Forest (avec meilleurs hyperparamètres)\")\n",
    "plt.bar(range(X_train.shape[1]), importances[indices], align=\"center\")\n",
    "plt.xticks(range(X_train.shape[1]), [X.columns[i] for i in indices], rotation=45)\n",
    "plt.xlabel('Variables')\n",
    "plt.ylabel('Importance')\n",
    "plt.show()"
   ]
  },
  {
   "cell_type": "markdown",
   "metadata": {},
   "source": []
  }
 ],
 "metadata": {
  "language_info": {
   "name": "python"
  }
 },
 "nbformat": 4,
 "nbformat_minor": 2
}
